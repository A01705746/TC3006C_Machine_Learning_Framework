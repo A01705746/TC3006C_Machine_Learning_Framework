{
  "nbformat": 4,
  "nbformat_minor": 0,
  "metadata": {
    "colab": {
      "provenance": [],
      "collapsed_sections": [
        "3YxA1sFF0e0t",
        "Ay-cXwp80mls",
        "pyIbomV102Oo"
      ]
    },
    "kernelspec": {
      "name": "python3",
      "display_name": "Python 3"
    },
    "language_info": {
      "name": "python"
    }
  },
  "cells": [
    {
      "cell_type": "markdown",
      "source": [
        "# Lectura de datos"
      ],
      "metadata": {
        "id": "3YxA1sFF0e0t"
      }
    },
    {
      "cell_type": "code",
      "execution_count": 1,
      "metadata": {
        "id": "jx1zuEIu-_WR",
        "colab": {
          "base_uri": "https://localhost:8080/"
        },
        "outputId": "c18e04c1-387b-476c-c7a1-780a406850a0"
      },
      "outputs": [
        {
          "output_type": "stream",
          "name": "stdout",
          "text": [
            "Mounted at /content/gdrive\n",
            "/content\n"
          ]
        }
      ],
      "source": [
        "from google.colab import drive\n",
        "\n",
        "drive.mount(\"/content/gdrive\")  \n",
        "!pwd"
      ]
    },
    {
      "cell_type": "code",
      "source": [
        "%cd \"/content/gdrive/MyDrive/Semestre IA/Aprendizaje automático\"\n",
        "!ls"
      ],
      "metadata": {
        "id": "A8pVn6DfCkJW",
        "colab": {
          "base_uri": "https://localhost:8080/"
        },
        "outputId": "8a43346d-8106-4f65-e798-7527bd966a6e"
      },
      "execution_count": 2,
      "outputs": [
        {
          "output_type": "stream",
          "name": "stdout",
          "text": [
            "/content/gdrive/MyDrive/Semestre IA/Aprendizaje automático\n",
            "'Clusters in  finance.ipynb'\t  Mejora_Framework.ipynb\n",
            "'Hierarchical Clustering.ipynb'  'Modelo con framework.ipynb'\n",
            "'KMeans sklearn blobs.ipynb'\t  Raisin_Dataset.xlsx\n",
            "'Linear Regression.ipynb'\n"
          ]
        }
      ]
    },
    {
      "cell_type": "code",
      "source": [
        "import pandas as pd\n",
        "import numpy as np\n",
        "import matplotlib.pyplot as plt\n",
        "\n",
        "from sklearn.linear_model import LinearRegression\n",
        "from sklearn.metrics import mean_squared_error\n",
        "from sklearn.metrics import r2_score\n",
        "from sklearn.model_selection import cross_val_score\n",
        "from sklearn.model_selection import train_test_split\n",
        "\n",
        "# For plots in Jupyter Notebooks\n",
        "%matplotlib inline    "
      ],
      "metadata": {
        "id": "f9l4XJQpCus3"
      },
      "execution_count": 3,
      "outputs": []
    },
    {
      "cell_type": "code",
      "source": [
        "# Carga y lectura del data set\n",
        "df = pd.read_excel('Raisin_Dataset.xlsx')"
      ],
      "metadata": {
        "id": "OwC0KhF4UYX5"
      },
      "execution_count": 4,
      "outputs": []
    },
    {
      "cell_type": "markdown",
      "source": [
        "# Modelo inicial"
      ],
      "metadata": {
        "id": "Ay-cXwp80mls"
      }
    },
    {
      "cell_type": "code",
      "source": [
        "# Creación del modelo de regresión lineal\n",
        "model = LinearRegression(fit_intercept=True)"
      ],
      "metadata": {
        "id": "RHK6jcTjSsAK"
      },
      "execution_count": 5,
      "outputs": []
    },
    {
      "cell_type": "code",
      "source": [
        "# Asignación de \"x\" y \"y\" para el modelo\n",
        "x = df[[\"Eccentricity\", \"Perimeter\"]]\n",
        "y = df['Area']"
      ],
      "metadata": {
        "id": "lrSwxPz4UyqR"
      },
      "execution_count": 6,
      "outputs": []
    },
    {
      "cell_type": "code",
      "source": [
        "# Separación de los datos en train y en test\n",
        "x_train, x_test, y_train, y_test = train_test_split(x, y, random_state=1)"
      ],
      "metadata": {
        "id": "5E3JZM_VU7Yi"
      },
      "execution_count": 7,
      "outputs": []
    },
    {
      "cell_type": "markdown",
      "source": [
        "Entrenamiento del modelo"
      ],
      "metadata": {
        "id": "IqZqPlJ5zK-2"
      }
    },
    {
      "cell_type": "code",
      "source": [
        "model.fit(x_train, y_train)"
      ],
      "metadata": {
        "colab": {
          "base_uri": "https://localhost:8080/"
        },
        "id": "JrSibzYuZNAm",
        "outputId": "a2f07868-0311-47dd-952b-e0acf2cf94c0"
      },
      "execution_count": 8,
      "outputs": [
        {
          "output_type": "execute_result",
          "data": {
            "text/plain": [
              "LinearRegression()"
            ]
          },
          "metadata": {},
          "execution_count": 8
        }
      ]
    },
    {
      "cell_type": "code",
      "source": [
        "model.coef_"
      ],
      "metadata": {
        "colab": {
          "base_uri": "https://localhost:8080/"
        },
        "id": "G9vKkGJ0ZX9W",
        "outputId": "80bf3d04-0de5-4451-c65b-32f8ae1d11ab"
      },
      "execution_count": 9,
      "outputs": [
        {
          "output_type": "execute_result",
          "data": {
            "text/plain": [
              "array([-53418.18076442,    143.42928279])"
            ]
          },
          "metadata": {},
          "execution_count": 9
        }
      ]
    },
    {
      "cell_type": "code",
      "source": [
        "model.intercept_"
      ],
      "metadata": {
        "colab": {
          "base_uri": "https://localhost:8080/"
        },
        "id": "pA29WS3RZcTd",
        "outputId": "57ac8627-f0a6-4f79-95c0-1ba5bfb570cd"
      },
      "execution_count": 10,
      "outputs": [
        {
          "output_type": "execute_result",
          "data": {
            "text/plain": [
              "-37775.25785321105"
            ]
          },
          "metadata": {},
          "execution_count": 10
        }
      ]
    },
    {
      "cell_type": "markdown",
      "source": [
        "Train"
      ],
      "metadata": {
        "id": "XULKylh4o-Mu"
      }
    },
    {
      "cell_type": "code",
      "source": [
        "# T R A I N : Predicciones del modelo\n",
        "yfit_train = model.predict(x_train)"
      ],
      "metadata": {
        "id": "GacVvfcAZkSi"
      },
      "execution_count": 11,
      "outputs": []
    },
    {
      "cell_type": "code",
      "source": [
        "# Mean Square Error de los datos predichos contra los datos reales\n",
        "mean_squared_error(y_train, yfit_train)"
      ],
      "metadata": {
        "colab": {
          "base_uri": "https://localhost:8080/"
        },
        "id": "i029AbkqZ4l1",
        "outputId": "76b245c7-af6c-4238-d77a-9785fc52358b"
      },
      "execution_count": 12,
      "outputs": [
        {
          "output_type": "execute_result",
          "data": {
            "text/plain": [
              "102413469.45534767"
            ]
          },
          "metadata": {},
          "execution_count": 12
        }
      ]
    },
    {
      "cell_type": "code",
      "source": [
        "# Precisión del modelo\n",
        "r2_score(y_train, yfit_train)"
      ],
      "metadata": {
        "colab": {
          "base_uri": "https://localhost:8080/"
        },
        "id": "Wb0xa5VrZ9_o",
        "outputId": "45b6f226-6b19-457a-e465-003353a0d5d4"
      },
      "execution_count": 13,
      "outputs": [
        {
          "output_type": "execute_result",
          "data": {
            "text/plain": [
              "0.9302210104824834"
            ]
          },
          "metadata": {},
          "execution_count": 13
        }
      ]
    },
    {
      "cell_type": "markdown",
      "source": [
        "Test"
      ],
      "metadata": {
        "id": "0sCHevtxpQE2"
      }
    },
    {
      "cell_type": "code",
      "source": [
        "# T E S T : Predicciones del modelo\n",
        "yfit_test = model.predict(x_test)"
      ],
      "metadata": {
        "id": "96RIdxkjhckT"
      },
      "execution_count": 14,
      "outputs": []
    },
    {
      "cell_type": "code",
      "source": [
        "# Mean Square Error de los datos predichos contra los datos reales\n",
        "mean_squared_error(y_test, yfit_test)"
      ],
      "metadata": {
        "colab": {
          "base_uri": "https://localhost:8080/"
        },
        "id": "lPIcTFeJjS_k",
        "outputId": "b43c2263-58c9-4f95-9d23-f1bcc8a34d33"
      },
      "execution_count": 15,
      "outputs": [
        {
          "output_type": "execute_result",
          "data": {
            "text/plain": [
              "86487798.58356188"
            ]
          },
          "metadata": {},
          "execution_count": 15
        }
      ]
    },
    {
      "cell_type": "code",
      "source": [
        "# Precisión del modelo\n",
        "r2_score(y_test, yfit_test)"
      ],
      "metadata": {
        "colab": {
          "base_uri": "https://localhost:8080/"
        },
        "id": "kYLhOYB-jlNy",
        "outputId": "1cc6f293-7716-4aa9-e7b4-93372b179179"
      },
      "execution_count": 16,
      "outputs": [
        {
          "output_type": "execute_result",
          "data": {
            "text/plain": [
              "0.9481185406143141"
            ]
          },
          "metadata": {},
          "execution_count": 16
        }
      ]
    },
    {
      "cell_type": "markdown",
      "source": [
        "Cross Validation"
      ],
      "metadata": {
        "id": "LYYO7FM9pYRl"
      }
    },
    {
      "cell_type": "code",
      "source": [
        "# Cross Validation del modelo\n",
        "abs(cross_val_score(LinearRegression(), x_train, y_train, cv=10, scoring = \"r2\").mean())"
      ],
      "metadata": {
        "colab": {
          "base_uri": "https://localhost:8080/"
        },
        "id": "nmlU0MPhp9DF",
        "outputId": "65608caa-5ee6-4d82-a4dc-6e3a7088d44b"
      },
      "execution_count": 17,
      "outputs": [
        {
          "output_type": "execute_result",
          "data": {
            "text/plain": [
              "0.9288839922985004"
            ]
          },
          "metadata": {},
          "execution_count": 17
        }
      ]
    },
    {
      "cell_type": "markdown",
      "source": [
        "Plot"
      ],
      "metadata": {
        "id": "6Akir5K6p8El"
      }
    },
    {
      "cell_type": "code",
      "source": [
        "plt.scatter(range(len(y_test)), y_test, label = 'y_test')\n",
        "plt.scatter(range(len(y_test)), yfit_test, label = 'yfit_test')\n",
        "plt.ylabel(\"y value\")\n",
        "plt.xlabel(\"Position\")\n",
        "plt.legend()\n",
        "plt.title(\"Test data vs predicted data\")\n",
        "\n",
        "plt.show()"
      ],
      "metadata": {
        "colab": {
          "base_uri": "https://localhost:8080/",
          "height": 295
        },
        "id": "GPKHlduTjxCE",
        "outputId": "0afb6ef4-5bf0-4f07-a761-a670ab77ed2c"
      },
      "execution_count": 18,
      "outputs": [
        {
          "output_type": "display_data",
          "data": {
            "text/plain": [
              "<Figure size 432x288 with 1 Axes>"
            ],
            "image/png": "[encoded data removed]"
          },
          "metadata": {
            "needs_background": "light"
          }
        }
      ]
    },
    {
      "cell_type": "markdown",
      "source": [
        "# Mejora del modelo"
      ],
      "metadata": {
        "id": "pyIbomV102Oo"
      }
    },
    {
      "cell_type": "markdown",
      "source": [
        "Con el fin de evaluar las posibles formas de mejora, se buscó la correlación de las varibles del dataset con nuestra \"y\", que es el área."
      ],
      "metadata": {
        "id": "HQuBeqL9XqSv"
      }
    },
    {
      "cell_type": "code",
      "source": [
        "correlation = df.corr()[\"Area\"]\n",
        "correlation.sort_values(ascending=False)"
      ],
      "metadata": {
        "colab": {
          "base_uri": "https://localhost:8080/"
        },
        "id": "-6fKlGhY-glC",
        "outputId": "ec07e927-9cc4-45da-8d2a-fbebd497e03a"
      },
      "execution_count": 19,
      "outputs": [
        {
          "output_type": "execute_result",
          "data": {
            "text/plain": [
              "Area               1.000000\n",
              "ConvexArea         0.995920\n",
              "Perimeter          0.961352\n",
              "MajorAxisLength    0.932774\n",
              "MinorAxisLength    0.906650\n",
              "Eccentricity       0.336107\n",
              "Extent            -0.013499\n",
              "Name: Area, dtype: float64"
            ]
          },
          "metadata": {},
          "execution_count": 19
        }
      ]
    },
    {
      "cell_type": "markdown",
      "source": [
        "La gran mayoría de las variables están fuertemente correlacionadas, teniendo cercanía con el 1, a excepción de la Eccentricity y el Extent, por lo que podemos descartar estas variables de nuestro modelo y tomar las demás."
      ],
      "metadata": {
        "id": "1Wn30ahBZK1v"
      }
    },
    {
      "cell_type": "code",
      "source": [
        "# Creación del modelo de regresión lineal\n",
        "model2 = LinearRegression(fit_intercept=True)"
      ],
      "metadata": {
        "id": "PUIh9tmy02Ot"
      },
      "execution_count": 20,
      "outputs": []
    },
    {
      "cell_type": "code",
      "source": [
        "# Asignación de \"x\" y \"y\" para el modelo\n",
        "x = df[[\"ConvexArea\", \"Perimeter\", \"MajorAxisLength\", \"MinorAxisLength\"]]\n",
        "y = df['Area']"
      ],
      "metadata": {
        "id": "RC-HlIkq02Ow"
      },
      "execution_count": 21,
      "outputs": []
    },
    {
      "cell_type": "code",
      "source": [
        "# Separación de los datos en train y en test\n",
        "x_train, x_test, y_train, y_test = train_test_split(x, y, random_state=1)"
      ],
      "metadata": {
        "id": "A35SMIYb02Oz"
      },
      "execution_count": 22,
      "outputs": []
    },
    {
      "cell_type": "markdown",
      "source": [
        "Entrenamiento del modelo"
      ],
      "metadata": {
        "id": "_RpAz5Tf02O2"
      }
    },
    {
      "cell_type": "code",
      "source": [
        "model2.fit(x_train, y_train)"
      ],
      "metadata": {
        "colab": {
          "base_uri": "https://localhost:8080/"
        },
        "outputId": "376dab48-263c-4c7e-86a0-573b01a34e18",
        "id": "QbyPlU6602O3"
      },
      "execution_count": 23,
      "outputs": [
        {
          "output_type": "execute_result",
          "data": {
            "text/plain": [
              "LinearRegression()"
            ]
          },
          "metadata": {},
          "execution_count": 23
        }
      ]
    },
    {
      "cell_type": "code",
      "source": [
        "model2.coef_"
      ],
      "metadata": {
        "colab": {
          "base_uri": "https://localhost:8080/"
        },
        "outputId": "12dc6c93-b9f6-42f9-f3f0-7ae6d5f253d0",
        "id": "RWfQvAuy02O6"
      },
      "execution_count": 24,
      "outputs": [
        {
          "output_type": "execute_result",
          "data": {
            "text/plain": [
              "array([  0.90283855, -81.5677566 , 150.19868103, 162.12966509])"
            ]
          },
          "metadata": {},
          "execution_count": 24
        }
      ]
    },
    {
      "cell_type": "code",
      "source": [
        "model2.intercept_"
      ],
      "metadata": {
        "colab": {
          "base_uri": "https://localhost:8080/"
        },
        "outputId": "8e3c01a6-f6de-4880-8d55-6d54194d88fe",
        "id": "5WX9MvbB02O9"
      },
      "execution_count": 25,
      "outputs": [
        {
          "output_type": "execute_result",
          "data": {
            "text/plain": [
              "-5468.337988445244"
            ]
          },
          "metadata": {},
          "execution_count": 25
        }
      ]
    },
    {
      "cell_type": "markdown",
      "source": [
        "Train"
      ],
      "metadata": {
        "id": "b1eQmaZc02PC"
      }
    },
    {
      "cell_type": "code",
      "source": [
        "# T R A I N : Predicciones del modelo\n",
        "yfit_train = model2.predict(x_train)"
      ],
      "metadata": {
        "id": "mCCXpWgZ02PE"
      },
      "execution_count": 26,
      "outputs": []
    },
    {
      "cell_type": "code",
      "source": [
        "# Mean Square Error de los datos predichos contra los datos reales\n",
        "mean_squared_error(y_train, yfit_train)"
      ],
      "metadata": {
        "colab": {
          "base_uri": "https://localhost:8080/"
        },
        "outputId": "8361c269-5a2c-4bdf-d1f0-51f8acd0d3d4",
        "id": "q18-h8_w02PF"
      },
      "execution_count": 27,
      "outputs": [
        {
          "output_type": "execute_result",
          "data": {
            "text/plain": [
              "4434391.208879115"
            ]
          },
          "metadata": {},
          "execution_count": 27
        }
      ]
    },
    {
      "cell_type": "code",
      "source": [
        "# Precisión del modelo\n",
        "r2_score(y_train, yfit_train)"
      ],
      "metadata": {
        "colab": {
          "base_uri": "https://localhost:8080/"
        },
        "outputId": "8ae12adf-6b25-4534-93fb-b6303121cc88",
        "id": "iazGToTU02PH"
      },
      "execution_count": 28,
      "outputs": [
        {
          "output_type": "execute_result",
          "data": {
            "text/plain": [
              "0.996978646077254"
            ]
          },
          "metadata": {},
          "execution_count": 28
        }
      ]
    },
    {
      "cell_type": "markdown",
      "source": [
        "Test"
      ],
      "metadata": {
        "id": "yQY5QxMr02PJ"
      }
    },
    {
      "cell_type": "code",
      "source": [
        "# T E S T : Predicciones del modelo\n",
        "yfit_test = model2.predict(x_test)"
      ],
      "metadata": {
        "id": "TWNOF3Mv02PK"
      },
      "execution_count": 29,
      "outputs": []
    },
    {
      "cell_type": "code",
      "source": [
        "# Mean Square Error de los datos predichos contra los datos reales\n",
        "mean_squared_error(y_test, yfit_test)"
      ],
      "metadata": {
        "colab": {
          "base_uri": "https://localhost:8080/"
        },
        "outputId": "59c546b7-6a95-4dcd-a058-7be8e1dd51a6",
        "id": "pf3Lsd3Q02PM"
      },
      "execution_count": 30,
      "outputs": [
        {
          "output_type": "execute_result",
          "data": {
            "text/plain": [
              "3735937.1596187805"
            ]
          },
          "metadata": {},
          "execution_count": 30
        }
      ]
    },
    {
      "cell_type": "code",
      "source": [
        "# Precisión del modelo\n",
        "r2_score(y_test, yfit_test)"
      ],
      "metadata": {
        "colab": {
          "base_uri": "https://localhost:8080/"
        },
        "outputId": "e25b7cc6-9f63-4219-c1a0-2f82260e808d",
        "id": "Jd4kuuDJ02PO"
      },
      "execution_count": 31,
      "outputs": [
        {
          "output_type": "execute_result",
          "data": {
            "text/plain": [
              "0.9977589223544987"
            ]
          },
          "metadata": {},
          "execution_count": 31
        }
      ]
    },
    {
      "cell_type": "markdown",
      "source": [
        "Cross Validation"
      ],
      "metadata": {
        "id": "_6SZVz4w02PP"
      }
    },
    {
      "cell_type": "code",
      "source": [
        "# Cross Validation del modelo\n",
        "abs(cross_val_score(LinearRegression(), x_train, y_train, cv=10, scoring = \"r2\").mean())"
      ],
      "metadata": {
        "colab": {
          "base_uri": "https://localhost:8080/"
        },
        "outputId": "0b63461e-68fe-4cdb-eba6-e31718064976",
        "id": "A_Bxc8mU02PR"
      },
      "execution_count": 32,
      "outputs": [
        {
          "output_type": "execute_result",
          "data": {
            "text/plain": [
              "0.9966044232927187"
            ]
          },
          "metadata": {},
          "execution_count": 32
        }
      ]
    },
    {
      "cell_type": "markdown",
      "source": [
        "Se puede ver una mejora significativa en comparación al modelo inicial, pasando de un 93% a un 99% de accurancy, incluso con los datos de testeo, por lo que podemos decir que se encuentra fit."
      ],
      "metadata": {
        "id": "XR0U8Jk0Z8Mk"
      }
    },
    {
      "cell_type": "markdown",
      "source": [
        "Plot"
      ],
      "metadata": {
        "id": "Vwxa6gss02PS"
      }
    },
    {
      "cell_type": "code",
      "source": [
        "plt.scatter(range(len(y_test)), y_test, label = 'y_test')\n",
        "plt.scatter(range(len(y_test)), yfit_test, label = 'yfit_test')\n",
        "plt.ylabel(\"y value\")\n",
        "plt.xlabel(\"Position\")\n",
        "plt.legend()\n",
        "plt.title(\"Test data vs predicted data\")\n",
        "\n",
        "plt.show()"
      ],
      "metadata": {
        "colab": {
          "base_uri": "https://localhost:8080/",
          "height": 295
        },
        "outputId": "b065c4f7-eaeb-4dfc-8ed2-2e734b713a96",
        "id": "TEfgRyl102PT"
      },
      "execution_count": 33,
      "outputs": [
        {
          "output_type": "display_data",
          "data": {
            "text/plain": [
              "<Figure size 432x288 with 1 Axes>"
            ],
            "image/png": "[encoded data removed]"
          },
          "metadata": {
            "needs_background": "light"
          }
        }
      ]
    }
  ]
}